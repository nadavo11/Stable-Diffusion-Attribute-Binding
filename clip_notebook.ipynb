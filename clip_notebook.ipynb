{
 "cells": [
  {
   "cell_type": "code",
   "execution_count": 46,
   "metadata": {},
   "outputs": [],
   "source": [
    "from torchmetrics.multimodal.clip_score import CLIPScore\n",
    "from PIL import Image\n",
    "import torch\n",
    "import os\n",
    "import io\n",
    "import urllib\n",
    "from datasets import load_dataset\n",
    "from datasets.utils.file_utils import get_datasets_user_agent\n",
    "import os\n",
    "import requests\n",
    "import numpy as np\n",
    "from natsort import natsorted\n",
    "\n",
    "\n",
    "USER_AGENT = get_datasets_user_agent()\n"
   ]
  },
  {
   "cell_type": "code",
   "execution_count": 36,
   "metadata": {},
   "outputs": [],
   "source": [
    "\n",
    "\n",
    "def calculate_clip_score(images, prompts):\n",
    "    images_int = (images * 255).astype(\"uint8\")\n",
    "    images_int = np.expand_dims(images_int, axis=0)  # Add batch dimension\n",
    "    score = metrics(torch.from_numpy(images_int).permute(0, 3, 1, 2), prompts).detach()\n",
    "    return round(float(score), 4)\n"
   ]
  },
  {
   "cell_type": "markdown",
   "metadata": {},
   "source": [
    "Data set & captions\n"
   ]
  },
  {
   "cell_type": "code",
   "execution_count": 31,
   "metadata": {},
   "outputs": [],
   "source": []
  },
  {
   "cell_type": "code",
   "execution_count": 8,
   "metadata": {},
   "outputs": [],
   "source": [
    "num_threads = 20\n",
    "dset = load_dataset(\"google-research-datasets/conceptual_captions\",streaming=True)\n"
   ]
  },
  {
   "cell_type": "code",
   "execution_count": 9,
   "metadata": {},
   "outputs": [],
   "source": [
    "dset_iter = iter(dset['train'])"
   ]
  },
  {
   "cell_type": "code",
   "execution_count": 42,
   "metadata": {},
   "outputs": [],
   "source": [
    "\n",
    "def conceptual_captioning_stream_to_dir (save_dir, image_num):\n",
    "    if not os.path.exists(save_dir):\n",
    "        os.makedirs(save_dir)\n",
    "    captions = []\n",
    "    for i in range(image_num):\n",
    "        item2 = next(dset_iter)\n",
    "        image_url = item2['image_url']\n",
    "        caption = item2['caption']\n",
    "        response = requests.get(image_url, stream=True)\n",
    "        try:\n",
    "            if response.status_code == 200:\n",
    "                image_path = os.path.join(save_dir, f\"image_{i}.jpg\")\n",
    "                with open(image_path, 'wb') as f:\n",
    "                    for chunk in response.iter_content(1024):\n",
    "                        f.write(chunk)\n",
    "                captions.append(caption)\n",
    "            \n",
    "            else:\n",
    "                print(f\"Failed to download image {i} from {image_url}\")\n",
    "        except Exception as e:\n",
    "            print(f\"Error downloading image {i} from {image_url}: {e}\")\n",
    "    return captions , save_dir"
   ]
  },
  {
   "cell_type": "code",
   "execution_count": 49,
   "metadata": {},
   "outputs": [],
   "source": [
    "def evaluation(save_dir, captions , metric= \"clip\"):\n",
    "    if (metric == \"clip\"):\n",
    "        print(f\"Metric used is CLIP Score\")\n",
    "        metrics = CLIPScore(model_name_or_path=\"openai/clip-vit-base-patch16\")\n",
    "    image_files = natsorted(os.listdir(save_dir))  # Ensure the images are processed in order\n",
    "    for img_file, caption in zip(image_files, captions):\n",
    "        img_path = os.path.join(save_dir, img_file)\n",
    "        if img_path.endswith(\".jpg\") or img_path.endswith(\".png\"):\n",
    "            img = Image.open(img_path)\n",
    "            img_array = np.array(img) / 255.0\n",
    "            score = calculate_clip_score(img_array, caption)\n",
    "            print(f\"Image: {img_path}, Caption: {caption}, CLIP Score: {score}\")"
   ]
  },
  {
   "cell_type": "code",
   "execution_count": 51,
   "metadata": {},
   "outputs": [
    {
     "name": "stdout",
     "output_type": "stream",
     "text": [
      "Failed to download image 0 from http://oneindiaonepeople.com/wp-content/uploads/2014/02/13.jpg\n",
      "Failed to download image 9 from https://lynismael.com/wp-content/uploads/2015/05/Holland-Marsh-Wedding-Photographer-Katelyn-Rick_0047(pp_w768_h534).jpg\n",
      "Failed to download image 13 from http://media.gettyimages.com/photos/entertainer-beyonce-performs-on-stage-during-the-formation-world-tour-picture-id538724332\n",
      "Failed to download image 18 from http://www.fourintravels.com/wp-content/uploads/2013/12/The-villas-from-the-front1.jpg\n"
     ]
    }
   ],
   "source": [
    "captions = []\n",
    "path_dir = os.path.join(os.getcwd(), \"conceptual_captioning\")\n",
    "captions, save_dir = conceptual_captioning_stream_to_dir(path_dir,image_num=20)\n"
   ]
  },
  {
   "cell_type": "code",
   "execution_count": 43,
   "metadata": {},
   "outputs": [
    {
     "name": "stdout",
     "output_type": "stream",
     "text": [
      "actor and daughters uk premiere held\n",
      "a fine , grainy vector pattern in black and white .\n",
      "seamless border of orange roses and paisley , pattern on a white background .\n",
      "students in front of a school\n",
      "museum , opened is among the 20th - century 's most significant buildings .\n",
      "river as it meets bodies of water where airline meets\n",
      "young rock star jamming on a guitar\n",
      "a moored fishing boat viewed from island .\n",
      "vector illustration of person isolated on a white background\n",
      "emergency services were called after a car smashed through a set of traffic lights\n",
      "sheep with a black face fenced in on a winter day\n",
      "a small park with flags and a yellow banner around a tree in support of troops\n",
      "isolated water glass on a white background\n",
      "when choosing your new outdoor color palette , opt for something that will enhance your home 's architectural style and give you plenty of curb appeal .\n",
      "person at a corporate event\n",
      "bulldozer on a building site\n",
      "person finishes at the top\n",
      "country shape animated on the satellite map of the globe\n",
      "paths are clearly marked with signs like this .\n",
      "putts for birdie on the second hole during the final round of the golf tournament .\n"
     ]
    }
   ],
   "source": [
    "for caption in captions:\n",
    "    print(caption)"
   ]
  },
  {
   "cell_type": "code",
   "execution_count": 52,
   "metadata": {},
   "outputs": [
    {
     "name": "stdout",
     "output_type": "stream",
     "text": [
      "Metric used is CLIP Score\n",
      "Image: /home/reutsalman/repo/Stable-Diffusion-Attribute-Binding/conceptual_captioning/image_1.jpg, Caption: farm tractor is moving on the field , cultivating land, CLIP Score: 26.5389\n",
      "Image: /home/reutsalman/repo/Stable-Diffusion-Attribute-Binding/conceptual_captioning/image_2.jpg, Caption: master playing with his little golden retriever dog on the lawn, CLIP Score: 30.9777\n",
      "Image: /home/reutsalman/repo/Stable-Diffusion-Attribute-Binding/conceptual_captioning/image_3.jpg, Caption: year later the small shrubs doubled in size ., CLIP Score: 26.462\n",
      "Image: /home/reutsalman/repo/Stable-Diffusion-Attribute-Binding/conceptual_captioning/image_4.jpg, Caption: according to the model , she regularly gets told it looks, CLIP Score: 26.0662\n",
      "Image: /home/reutsalman/repo/Stable-Diffusion-Attribute-Binding/conceptual_captioning/image_5.jpg, Caption: person and the fiancee at their engagement party ., CLIP Score: 28.7006\n",
      "Image: /home/reutsalman/repo/Stable-Diffusion-Attribute-Binding/conceptual_captioning/image_6.jpg, Caption: good night id been working like a dog i should be sleeping like a log, CLIP Score: 29.7891\n",
      "Image: /home/reutsalman/repo/Stable-Diffusion-Attribute-Binding/conceptual_captioning/image_7.jpg, Caption: the water was never deeper than your chest ., CLIP Score: 21.5077\n",
      "Image: /home/reutsalman/repo/Stable-Diffusion-Attribute-Binding/conceptual_captioning/image_8.jpg, Caption: twilight over italian gothic structure and the medieval town, CLIP Score: 31.6304\n",
      "Image: /home/reutsalman/repo/Stable-Diffusion-Attribute-Binding/conceptual_captioning/image_10.jpg, Caption: simple custom leather pulls for your dresser , cabinets , or doors ., CLIP Score: 31.3334\n",
      "Image: /home/reutsalman/repo/Stable-Diffusion-Attribute-Binding/conceptual_captioning/image_11.jpg, Caption: sunny woodland morning along river ., CLIP Score: 25.434\n",
      "Image: /home/reutsalman/repo/Stable-Diffusion-Attribute-Binding/conceptual_captioning/image_12.jpg, Caption: person , why u turn me on with your designs ? i believe i will bepinning some more of his work here in a bit ., CLIP Score: 24.0499\n",
      "Image: /home/reutsalman/repo/Stable-Diffusion-Attribute-Binding/conceptual_captioning/image_14.jpg, Caption: industrial plants in the distance at night, CLIP Score: 28.9106\n",
      "Image: /home/reutsalman/repo/Stable-Diffusion-Attribute-Binding/conceptual_captioning/image_15.jpg, Caption: building and skyscraper light up at night, CLIP Score: 26.7298\n",
      "Image: /home/reutsalman/repo/Stable-Diffusion-Attribute-Binding/conceptual_captioning/image_16.jpg, Caption: actor is an actor who started out as a lawyer ., CLIP Score: 25.0343\n",
      "Image: /home/reutsalman/repo/Stable-Diffusion-Attribute-Binding/conceptual_captioning/image_17.jpg, Caption: color good with green couch in living room ... favorite ... i think maybe a little too peach ?, CLIP Score: 30.7508\n",
      "Image: /home/reutsalman/repo/Stable-Diffusion-Attribute-Binding/conceptual_captioning/image_19.jpg, Caption: tree branches swing at real time with the wind while clouds move fast in time lapse, CLIP Score: 33.9801\n"
     ]
    }
   ],
   "source": [
    "evaluation(save_dir,captions)"
   ]
  },
  {
   "cell_type": "code",
   "execution_count": null,
   "metadata": {},
   "outputs": [],
   "source": []
  }
 ],
 "metadata": {
  "kernelspec": {
   "display_name": "Python 3",
   "language": "python",
   "name": "python3"
  },
  "language_info": {
   "codemirror_mode": {
    "name": "ipython",
    "version": 3
   },
   "file_extension": ".py",
   "mimetype": "text/x-python",
   "name": "python",
   "nbconvert_exporter": "python",
   "pygments_lexer": "ipython3",
   "version": "3.11.2"
  }
 },
 "nbformat": 4,
 "nbformat_minor": 2
}
