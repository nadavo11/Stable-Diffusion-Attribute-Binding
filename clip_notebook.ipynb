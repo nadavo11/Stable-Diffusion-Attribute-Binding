{
 "cells": [
  {
   "cell_type": "code",
   "execution_count": 34,
   "metadata": {},
   "outputs": [],
   "source": [
    "from torchmetrics.multimodal.clip_score import CLIPScore\n",
    "from functools import partial\n",
    "from PIL import Image\n",
    "import torch\n",
    "import os\n",
    "\n"
   ]
  },
  {
   "cell_type": "code",
   "execution_count": 36,
   "metadata": {},
   "outputs": [],
   "source": [
    "\n",
    "\n",
    "def calculate_clip_score(images, prompts):\n",
    "    images_int = (images * 255).astype(\"uint8\")\n",
    "    images_int = np.expand_dims(images_int, axis=0)  # Add batch dimension\n",
    "    score = metrics(torch.from_numpy(images_int).permute(0, 3, 1, 2), prompts).detach()\n",
    "    return round(float(score), 4)\n"
   ]
  },
  {
   "cell_type": "code",
   "execution_count": 3,
   "metadata": {},
   "outputs": [
    {
     "data": {
      "text/plain": [
       "'/home/reutsalman/repo/Stable-Diffusion-Attribute-Binding'"
      ]
     },
     "execution_count": 3,
     "metadata": {},
     "output_type": "execute_result"
    }
   ],
   "source": [
    "def process_images_and_captions(image_paths, captions):\n",
    "    for img_path, caption in zip(image_paths, captions):\n",
    "        img = Image.open(img_path)\n",
    "        score = calculate_clip_score(img, caption)\n",
    "        print(f\"Image: {img_path}, Caption: {caption}, CLIP Score: {score}\")\n"
   ]
  },
  {
   "cell_type": "markdown",
   "metadata": {},
   "source": [
    "Data set & captions\n"
   ]
  },
  {
   "cell_type": "code",
   "execution_count": 31,
   "metadata": {},
   "outputs": [],
   "source": [
    "from concurrent.futures import ThreadPoolExecutor\n",
    "from functools import partial\n",
    "import io\n",
    "import urllib\n",
    "from datasets import load_dataset\n",
    "from datasets.utils.file_utils import get_datasets_user_agent\n",
    "from matplotlib import pyplot as plt\n",
    "from matplotlib import image as mpimg\n",
    "import os\n",
    "import requests\n",
    "import numpy as np\n",
    "\n",
    "\n",
    "USER_AGENT = get_datasets_user_agent()"
   ]
  },
  {
   "cell_type": "code",
   "execution_count": 8,
   "metadata": {},
   "outputs": [],
   "source": [
    "num_threads = 20\n",
    "dset = load_dataset(\"google-research-datasets/conceptual_captions\",streaming=True)\n"
   ]
  },
  {
   "cell_type": "code",
   "execution_count": 9,
   "metadata": {},
   "outputs": [],
   "source": [
    "dset_iter = iter(dset['train'])"
   ]
  },
  {
   "cell_type": "code",
   "execution_count": 23,
   "metadata": {},
   "outputs": [],
   "source": [
    "\n",
    "def conceptual_captioning_stream_to_dir (save_dir, image_num):\n",
    "    if not os.path.exists(save_dir):\n",
    "        os.makedirs(save_dir)\n",
    "    captions = []\n",
    "    for i in range(image_num):\n",
    "        item2 = next(dset_iter)\n",
    "        image_url = item2['image_url']\n",
    "        caption = item2['caption']\n",
    "        response = requests.get(image_url, stream=True)\n",
    "        try:\n",
    "            if response.status_code == 200:\n",
    "                image_path = os.path.join(save_dir, f\"image_{i}.jpg\")\n",
    "                with open(image_path, 'wb') as f:\n",
    "                    for chunk in response.iter_content(1024):\n",
    "                        f.write(chunk)\n",
    "                captions.append(caption)\n",
    "            \n",
    "            else:\n",
    "                print(f\"Failed to download image {i} from {image_url}\")\n",
    "        except Exception as e:\n",
    "            print(f\"Error downloading image {i} from {image_url}: {e}\")\n",
    "    return captions , save_dir"
   ]
  },
  {
   "cell_type": "code",
   "execution_count": 37,
   "metadata": {},
   "outputs": [],
   "source": [
    "def evaluation(save_dir, captions , metric= \"clip\"):\n",
    "    if (metric == \"clip\"):\n",
    "        print(f\"Metric used is CLIP Score\")\n",
    "        metrics = CLIPScore(model_name_or_path=\"openai/clip-vit-base-patch16\")\n",
    "    image_files = sorted(os.listdir(save_dir))  # Ensure the images are processed in order\n",
    "    for img_file, caption in zip(image_files, captions):\n",
    "        img_path = os.path.join(save_dir, img_file)\n",
    "        if img_path.endswith(\".jpg\") or img_path.endswith(\".png\"):\n",
    "            img = Image.open(img_path)\n",
    "            img_array = np.array(img) / 255.0\n",
    "            score = calculate_clip_score(img_array, caption)\n",
    "            print(f\"Image: {img_path}, Caption: {caption}, CLIP Score: {score}\")"
   ]
  },
  {
   "cell_type": "code",
   "execution_count": 27,
   "metadata": {},
   "outputs": [
    {
     "name": "stdout",
     "output_type": "stream",
     "text": [
      "the sign promises as much as the glorious blue sky . added to list\n",
      "Failed to download image 1 from https://media.gettyimages.com/photos/architectural-details-of-a-bridge-picture-id511832249?s=612x612\n",
      "people tour and enjoy the public park during summer added to list\n",
      "interesting 1930 's poster for a cosmetic company with stores . added to list\n",
      "racecar driver steers his car during video game subject . added to list\n",
      "vintage elegant floral card with frame decorated with black and white lilies on a pink background . added to list\n",
      "heavy snow falls over a snow lined river . added to list\n",
      "bright living room in the attic added to list\n",
      "Failed to download image 8 from https://media.gettyimages.com/photos/actor-kevin-mchale-attends-the-3rd-annual-nautica-oceana-beach-house-picture-id472759470?s=612x612\n",
      "Failed to download image 9 from https://thumb1.shutterstock.com/display_pic_with_logo/1448648/675197230/stock-vector-illustration-of-a-long-shadow-australia-map-its-flag-and-a-comic-balloon-with-a-soccer-ball-in-a-675197230.jpg\n",
      "Failed to download image 10 from https://media.gettyimages.com/photos/musician-sting-performs-on-stage-at-the-46th-annual-grammy-awards-at-picture-id2949702?s=612x612\n",
      "green sea turtle isolated on a white background 3d illustration added to list\n",
      "person , was surprised by the staff added to list\n",
      "red and white flag on the mast added to list\n",
      "football player celebrates scoring for football team against football team in the final added to list\n",
      "concept plug - in hybrid car on display added to list\n",
      "a pencil drawing of a zebra and her baby . added to list\n",
      "Failed to download image 17 from http://file.vintageadbrowser.com/3iodaozwajsgwb.jpg\n",
      "Failed to download image 18 from http://www.remonline.com/wp-content/uploads/2017/06/Stone-South-development-1.jpg\n",
      "Failed to download image 19 from https://media.gettyimages.com/photos/demonstration-of-a-group-of-people-practicing-their-rights-picture-id172184947?s=612x612\n"
     ]
    }
   ],
   "source": [
    "captions = []\n",
    "path_dir = os.path.join(os.getcwd(), \"conceptual_captioning\")\n",
    "captions, save_dir = conceptual_captioning_stream_to_dir(path_dir,image_num=20)\n"
   ]
  },
  {
   "cell_type": "code",
   "execution_count": 28,
   "metadata": {},
   "outputs": [
    {
     "name": "stdout",
     "output_type": "stream",
     "text": [
      "the sign promises as much as the glorious blue sky .\n",
      "people tour and enjoy the public park during summer\n",
      "interesting 1930 's poster for a cosmetic company with stores .\n",
      "racecar driver steers his car during video game subject .\n",
      "vintage elegant floral card with frame decorated with black and white lilies on a pink background .\n",
      "heavy snow falls over a snow lined river .\n",
      "bright living room in the attic\n",
      "green sea turtle isolated on a white background 3d illustration\n",
      "person , was surprised by the staff\n",
      "red and white flag on the mast\n",
      "football player celebrates scoring for football team against football team in the final\n",
      "concept plug - in hybrid car on display\n",
      "a pencil drawing of a zebra and her baby .\n"
     ]
    }
   ],
   "source": [
    "for caption in captions:\n",
    "    print(caption)"
   ]
  },
  {
   "cell_type": "code",
   "execution_count": 38,
   "metadata": {},
   "outputs": [
    {
     "name": "stdout",
     "output_type": "stream",
     "text": [
      "Metric used is CLIP Score\n"
     ]
    },
    {
     "name": "stderr",
     "output_type": "stream",
     "text": [
      "/home/reutsalman/repo/Stable-Diffusion-Attribute-Binding/.venv/lib/python3.11/site-packages/transformers/tokenization_utils_base.py:1601: FutureWarning: `clean_up_tokenization_spaces` was not set. It will be set to `True` by default. This behavior will be depracted in transformers v4.45, and will be then set to `False` by default. For more details check this issue: https://github.com/huggingface/transformers/issues/31884\n",
      "  warnings.warn(\n"
     ]
    },
    {
     "name": "stdout",
     "output_type": "stream",
     "text": [
      "Image: /home/reutsalman/repo/Stable-Diffusion-Attribute-Binding/conceptual_captioning/image_0.jpg, Caption: the sign promises as much as the glorious blue sky ., CLIP Score: 25.6883\n",
      "Image: /home/reutsalman/repo/Stable-Diffusion-Attribute-Binding/conceptual_captioning/image_11.jpg, Caption: people tour and enjoy the public park during summer, CLIP Score: 17.9286\n",
      "Image: /home/reutsalman/repo/Stable-Diffusion-Attribute-Binding/conceptual_captioning/image_12.jpg, Caption: interesting 1930 's poster for a cosmetic company with stores ., CLIP Score: 6.0892\n",
      "Image: /home/reutsalman/repo/Stable-Diffusion-Attribute-Binding/conceptual_captioning/image_13.jpg, Caption: racecar driver steers his car during video game subject ., CLIP Score: 21.27\n",
      "Image: /home/reutsalman/repo/Stable-Diffusion-Attribute-Binding/conceptual_captioning/image_14.jpg, Caption: vintage elegant floral card with frame decorated with black and white lilies on a pink background ., CLIP Score: 1.942\n",
      "Image: /home/reutsalman/repo/Stable-Diffusion-Attribute-Binding/conceptual_captioning/image_15.jpg, Caption: heavy snow falls over a snow lined river ., CLIP Score: 9.7528\n",
      "Image: /home/reutsalman/repo/Stable-Diffusion-Attribute-Binding/conceptual_captioning/image_16.jpg, Caption: bright living room in the attic, CLIP Score: 8.0237\n",
      "Image: /home/reutsalman/repo/Stable-Diffusion-Attribute-Binding/conceptual_captioning/image_2.jpg, Caption: green sea turtle isolated on a white background 3d illustration, CLIP Score: 11.3583\n",
      "Image: /home/reutsalman/repo/Stable-Diffusion-Attribute-Binding/conceptual_captioning/image_3.jpg, Caption: person , was surprised by the staff, CLIP Score: 19.0727\n",
      "Image: /home/reutsalman/repo/Stable-Diffusion-Attribute-Binding/conceptual_captioning/image_4.jpg, Caption: red and white flag on the mast, CLIP Score: 16.3649\n",
      "Image: /home/reutsalman/repo/Stable-Diffusion-Attribute-Binding/conceptual_captioning/image_5.jpg, Caption: football player celebrates scoring for football team against football team in the final, CLIP Score: 12.7042\n",
      "Image: /home/reutsalman/repo/Stable-Diffusion-Attribute-Binding/conceptual_captioning/image_6.jpg, Caption: concept plug - in hybrid car on display, CLIP Score: 11.6112\n"
     ]
    },
    {
     "ename": "UnidentifiedImageError",
     "evalue": "cannot identify image file '/home/reutsalman/repo/Stable-Diffusion-Attribute-Binding/conceptual_captioning/image_7.jpg'",
     "output_type": "error",
     "traceback": [
      "\u001b[0;31m---------------------------------------------------------------------------\u001b[0m",
      "\u001b[0;31mUnidentifiedImageError\u001b[0m                    Traceback (most recent call last)",
      "Cell \u001b[0;32mIn[38], line 1\u001b[0m\n\u001b[0;32m----> 1\u001b[0m \u001b[43mevaluation\u001b[49m\u001b[43m(\u001b[49m\u001b[43msave_dir\u001b[49m\u001b[43m,\u001b[49m\u001b[43mcaptions\u001b[49m\u001b[43m)\u001b[49m\n",
      "Cell \u001b[0;32mIn[37], line 9\u001b[0m, in \u001b[0;36mevaluation\u001b[0;34m(save_dir, captions, metric)\u001b[0m\n\u001b[1;32m      7\u001b[0m img_path \u001b[38;5;241m=\u001b[39m os\u001b[38;5;241m.\u001b[39mpath\u001b[38;5;241m.\u001b[39mjoin(save_dir, img_file)\n\u001b[1;32m      8\u001b[0m \u001b[38;5;28;01mif\u001b[39;00m img_path\u001b[38;5;241m.\u001b[39mendswith(\u001b[38;5;124m\"\u001b[39m\u001b[38;5;124m.jpg\u001b[39m\u001b[38;5;124m\"\u001b[39m) \u001b[38;5;129;01mor\u001b[39;00m img_path\u001b[38;5;241m.\u001b[39mendswith(\u001b[38;5;124m\"\u001b[39m\u001b[38;5;124m.png\u001b[39m\u001b[38;5;124m\"\u001b[39m):\n\u001b[0;32m----> 9\u001b[0m     img \u001b[38;5;241m=\u001b[39m \u001b[43mImage\u001b[49m\u001b[38;5;241;43m.\u001b[39;49m\u001b[43mopen\u001b[49m\u001b[43m(\u001b[49m\u001b[43mimg_path\u001b[49m\u001b[43m)\u001b[49m\n\u001b[1;32m     10\u001b[0m     img_array \u001b[38;5;241m=\u001b[39m np\u001b[38;5;241m.\u001b[39marray(img) \u001b[38;5;241m/\u001b[39m \u001b[38;5;241m255.0\u001b[39m\n\u001b[1;32m     11\u001b[0m     score \u001b[38;5;241m=\u001b[39m calculate_clip_score(img_array, caption)\n",
      "File \u001b[0;32m~/repo/Stable-Diffusion-Attribute-Binding/.venv/lib/python3.11/site-packages/PIL/Image.py:3498\u001b[0m, in \u001b[0;36mopen\u001b[0;34m(fp, mode, formats)\u001b[0m\n\u001b[1;32m   3496\u001b[0m     warnings\u001b[38;5;241m.\u001b[39mwarn(message)\n\u001b[1;32m   3497\u001b[0m msg \u001b[38;5;241m=\u001b[39m \u001b[38;5;124m\"\u001b[39m\u001b[38;5;124mcannot identify image file \u001b[39m\u001b[38;5;132;01m%r\u001b[39;00m\u001b[38;5;124m\"\u001b[39m \u001b[38;5;241m%\u001b[39m (filename \u001b[38;5;28;01mif\u001b[39;00m filename \u001b[38;5;28;01melse\u001b[39;00m fp)\n\u001b[0;32m-> 3498\u001b[0m \u001b[38;5;28;01mraise\u001b[39;00m UnidentifiedImageError(msg)\n",
      "\u001b[0;31mUnidentifiedImageError\u001b[0m: cannot identify image file '/home/reutsalman/repo/Stable-Diffusion-Attribute-Binding/conceptual_captioning/image_7.jpg'"
     ]
    }
   ],
   "source": [
    "evaluation(save_dir,captions)"
   ]
  },
  {
   "cell_type": "code",
   "execution_count": null,
   "metadata": {},
   "outputs": [],
   "source": []
  }
 ],
 "metadata": {
  "kernelspec": {
   "display_name": "Python 3",
   "language": "python",
   "name": "python3"
  },
  "language_info": {
   "codemirror_mode": {
    "name": "ipython",
    "version": 3
   },
   "file_extension": ".py",
   "mimetype": "text/x-python",
   "name": "python",
   "nbconvert_exporter": "python",
   "pygments_lexer": "ipython3",
   "version": "3.11.2"
  }
 },
 "nbformat": 4,
 "nbformat_minor": 2
}
