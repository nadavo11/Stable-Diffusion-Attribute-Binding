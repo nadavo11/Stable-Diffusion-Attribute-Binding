{
  "cells": [
    {
      "cell_type": "code",
      "execution_count": null,
      "metadata": {
        "colab": {
          "base_uri": "https://localhost:8080/"
        },
        "id": "vacX_GSLYpB6",
        "outputId": "19c4a19b-7206-4c59-93ab-47f732a40f4d"
      },
      "outputs": [],
      "source": [
        "!pip install torchmetrics --upgrade\n",
        "!pip install pandas\n",
        "!pip install sentence_transformers\n",
        "!pip install datasets\n",
        "!pip install transformers\n",
        "!pip install sklearn"
      ]
    },
    {
      "cell_type": "code",
      "execution_count": null,
      "metadata": {},
      "outputs": [],
      "source": [
        "pip install nbformat\n"
      ]
    },
    {
      "cell_type": "code",
      "execution_count": null,
      "metadata": {
        "id": "2ePbmAB1YcvX"
      },
      "outputs": [],
      "source": [
        "\n",
        "from PIL import Image\n",
        "import torch\n",
        "import os\n",
        "from datasets import load_dataset\n",
        "from datasets.utils.file_utils import get_datasets_user_agent\n",
        "import requests\n",
        "import numpy as np\n",
        "import pandas as pd\n",
        "import json\n",
        "# from natsort import natsorted\n",
        "from transformers import Blip2Processor, Blip2ForConditionalGeneration\n",
        "from sklearn.metrics.pairwise import cosine_similarity\n",
        "from sentence_transformers import SentenceTransformer, util\n",
        "from torchmetrics.multimodal.clip_score import CLIPScore\n",
        "USER_AGENT = get_datasets_user_agent()\n"
      ]
    },
    {
      "cell_type": "code",
      "execution_count": 2,
      "metadata": {
        "id": "WbDRZ3DWYcvc"
      },
      "outputs": [],
      "source": [
        "\n",
        "\n",
        "def calculate_clip_score(images, prompts):\n",
        "    metrics = CLIPScore(model_name_or_path=\"openai/clip-vit-base-patch16\")\n",
        "    images_int = (images * 255).astype(\"uint8\")\n",
        "    images_int = np.expand_dims(images_int, axis=0)  # Add batch dimension\n",
        "    score = metrics(torch.from_numpy(images_int).permute(0, 3, 1, 2), prompts).detach()\n",
        "    return round(float(score), 4)\n"
      ]
    },
    {
      "cell_type": "code",
      "execution_count": 3,
      "metadata": {
        "id": "_HxLLUYvYcvd"
      },
      "outputs": [],
      "source": [
        "def calculate_blip_2(image, prompt, processor ,model,device):\n",
        "    try:\n",
        "        img_inputs = processor(images=image, return_tensors=\"pt\").to(device)\n",
        "\n",
        "        # Generate image features\n",
        "        with torch.no_grad():\n",
        "          generated_ids = model.generate(**img_inputs)\n",
        "\n",
        "        generated_text = processor.batch_decode(generated_ids, skip_special_tokens=True)[0].strip()\n",
        "        similarity_model = SentenceTransformer('all-MiniLM-L6-v2')\n",
        "        generated_text_embedding = similarity_model.encode(generated_text)\n",
        "        caption_embedding = similarity_model.encode(prompt)\n",
        "\n",
        "        similarity_score = util.pytorch_cos_sim(caption_embedding, generated_text_embedding).item()\n",
        "        return similarity_score, generated_text\n",
        "    except Exception as e:\n",
        "        print(f\"An error occurred: {e}\")\n",
        "        return None"
      ]
    },
    {
      "cell_type": "markdown",
      "metadata": {
        "id": "v1t4swSwYcvf"
      },
      "source": [
        "Data set & captions\n"
      ]
    },
    {
      "cell_type": "code",
      "execution_count": null,
      "metadata": {
        "colab": {
          "base_uri": "https://localhost:8080/",
          "height": 49,
          "referenced_widgets": [
            "932b27a4ed374fca9488aca6b2d55656",
            "44247bfb5f824e48af2e6a1f21da90a5",
            "eeea2f66a03049f5af269a134e489dc5",
            "340b933d3f964f10b9dcb45fe544a034",
            "fb7b0859904346108de26b96425ef39b",
            "445a366df8df494793baedec4192292d",
            "f1d0ca3c830f4fe49f98efa0971a5f18",
            "ab28620a412043228e13e275560b874c",
            "3518f9afea514163b66b9947fc3278dd",
            "eaedd90f590b494587c99b9358764a87",
            "f49e9e574ab54f7d9ee44a70bf05b0ee"
          ]
        },
        "id": "smTcYjmkYcvh",
        "outputId": "bead8c62-47f4-4527-97e0-8da457bf6128"
      },
      "outputs": [],
      "source": [
        "num_threads = 20\n",
        "dset = load_dataset(\"google-research-datasets/conceptual_captions\",streaming=True)\n"
      ]
    },
    {
      "cell_type": "code",
      "execution_count": null,
      "metadata": {
        "id": "BFRHi7SEYcvh"
      },
      "outputs": [],
      "source": [
        "dset_iter = iter(dset['train'])"
      ]
    },
    {
      "cell_type": "code",
      "execution_count": null,
      "metadata": {
        "id": "-kqRI0vjYcvi"
      },
      "outputs": [],
      "source": [
        "\n",
        "def conceptual_captioning_stream_to_dir (save_dir, image_num):\n",
        "    if not os.path.exists(save_dir):\n",
        "        os.makedirs(save_dir)\n",
        "    captions = []\n",
        "    for i in range(image_num):\n",
        "        item2 = next(dset_iter)\n",
        "        image_url = item2['image_url']\n",
        "        caption = item2['caption']\n",
        "        response = requests.get(image_url, stream=True)\n",
        "        try:\n",
        "            if response.status_code == 200:\n",
        "                image_path = os.path.join(save_dir, f\"image_{i}.jpg\")\n",
        "                with open(image_path, 'wb') as f:\n",
        "                    for chunk in response.iter_content(1024):\n",
        "                        f.write(chunk)\n",
        "                captions.append(caption)\n",
        "            else:\n",
        "                print(f\"Failed to download image {i} from {image_url}\")\n",
        "        except Exception as e:\n",
        "            print(f\"Error downloading image {i} from {image_url}: {e}\")\n",
        "    return captions , save_dir"
      ]
    },
    {
      "cell_type": "code",
      "execution_count": 20,
      "metadata": {},
      "outputs": [],
      "source": [
        "\n",
        "def csv_to_json (csv_file_path , json_file_path):\n",
        "    df = pd.read_csv(csv_file_path)\n",
        "    df.to_json(json_file_path, orient='records', lines=True)\n",
        "    print(f\"CSV file has been converted to JSON and saved at {json_file_path}\")\n",
        "    return json_file_path"
      ]
    },
    {
      "cell_type": "code",
      "execution_count": 1,
      "metadata": {},
      "outputs": [],
      "source": [
        "# Function to load image from URL\n",
        "def load_image_from_hf_url(url):\n",
        "    response = requests.get(url)\n",
        "    image = Image.open(BytesIO(response.content))\n",
        "    return image\n",
        "\n",
        "def process_dataset(dataset, img = 'file_name', text='text'):\n",
        "    captions = []\n",
        "    for example in dataset:\n",
        "        image_url = example[img]  # Assuming this is a URL or local path\n",
        "        captions.append(example[text])\n",
        "        image = load_image_from_hf_url(image_url)  # Or use a local loader\n"
      ]
    },
    {
      "cell_type": "code",
      "execution_count": 4,
      "metadata": {
        "id": "q1VDZFCbYcvi"
      },
      "outputs": [],
      "source": [
        "import json\n",
        "def json_to_data(datajsonl):\n",
        "    data = []\n",
        "    with open(datajsonl, 'r') as file:\n",
        "        for line in file:\n",
        "            entry = json.loads(line)\n",
        "            data.append(entry)\n",
        "    return data  \n",
        "\n",
        " \n",
        "#Json must be inside images directory in \"save_dir\" path Path to image must be relative to save dir (mening only name of image)\n",
        "def evaluation(save_dir, json , metric= \"clip\", img_col = 'file_name', text_col='text', revers_col = \"reverse_text\"):\n",
        "    data = json_to_data(os.path.join(save_dir,json))\n",
        "    for entry in data:\n",
        "        img_path = os.path.join(save_dir, entry[img_col])\n",
        "        caption = entry[text_col]\n",
        "        revers_caption = entry[revers_col]\n",
        "        if img_path.endswith(\".jpg\") or img_path.endswith(\".png\"):\n",
        "            img = Image.open(img_path)\n",
        "        if(metric in (\"clip\", \"both\")):\n",
        "            print(f\"Metric used is CLIP Score\")\n",
        "            img_array = np.array(img) / 255.0\n",
        "            score = calculate_clip_score(img_array, caption)\n",
        "            reverse_score = calculate_clip_score(img_array, revers_caption)\n",
        "            diff = abs(score - reverse_score)\n",
        "            print(f\"Image: {img_path}, Caption: {caption}, CLIP Score: {score}, reverse caption {revers_caption}, reverse score {reverse_score}, diff {diff}\")\n",
        "        if(metric in (\"blip\" , \"both\")):\n",
        "            print(f\"Metric used is BLIP Score\")\n",
        "            processor = Blip2Processor.from_pretrained(\"Salesforce/blip2-flan-t5-xl\")\n",
        "            print(f\"after processor\")\n",
        "            model = Blip2ForConditionalGeneration.from_pretrained(\"Salesforce/blip2-flan-t5-xl\")\n",
        "            print(f\"after model\")\n",
        "\n",
        "            device = torch.device(\"cuda\" if torch.cuda.is_available() else \"cpu\")\n",
        "            print(f\"Using {device}\")\n",
        "            model.to(device)\n",
        "            blip_score, generated_caption = calculate_blip_2(img,caption,processor,model,device)\n",
        "            blip_reverse_score, reverse_generated_caption = calculate_blip_2(img,revers_caption,processor,model,device)\n",
        "            diff = abs(blip_score - blip_reverse_score)\n",
        "            print(f\"Image: {img_path}, Caption: {caption}, Generated Caption {generated_caption} BLIP2 Score: {blip_score}, reverse caption: {revers_caption} , reverse BLIP score {blip_reverse_score} \")\n",
        "        \n"
      ]
    },
    {
      "cell_type": "markdown",
      "metadata": {
        "id": "9DAZjnJo5RAW"
      },
      "source": [
        "Download Images to directory"
      ]
    },
    {
      "cell_type": "code",
      "execution_count": null,
      "metadata": {
        "id": "Zma18FVdYcvj"
      },
      "outputs": [],
      "source": [
        "# remove before merge\n",
        "\n",
        "captions = []\n",
        "path_dir = os.path.join(os.getcwd(), \"conceptual_captioning\")\n",
        "captions, save_dir = conceptual_captioning_stream_to_dir(path_dir,image_num=20)\n"
      ]
    },
    {
      "cell_type": "markdown",
      "metadata": {
        "id": "DXk2jckaYcvk"
      },
      "source": [
        "Clip Score Evaluation\n"
      ]
    },
    {
      "cell_type": "code",
      "execution_count": null,
      "metadata": {
        "colab": {
          "base_uri": "https://localhost:8080/"
        },
        "id": "ChhWjDP16saO",
        "outputId": "e574b4d4-dbea-4e41-a8f2-dd55621c1197"
      },
      "outputs": [],
      "source": [
        "# remove before merge\n",
        "import shutil\n",
        "\n",
        "image_path = os.path.join(os.getcwd(), \"conceptual_captioning\")\n",
        "\n",
        "if os.path.exists(image_path):\n",
        "    shutil.rmtree(image_path)\n",
        "    print(f\"{image_path} has been deleted.\")\n",
        "else:\n",
        "    print(f\"{image_path} does not exist.\")"
      ]
    },
    {
      "cell_type": "code",
      "execution_count": null,
      "metadata": {},
      "outputs": [],
      "source": [
        "save_dir = f'C:/Users/reuts/OneDrive - Hailo Technologies LTD/Desktop/Personal/MSC/Deep Learning/project/data_set_hugging/filtered_imsitu_project/dataset'\n",
        "json_file = f'{save_dir}/output_with_reverse.json'\n",
        "evaluation(save_dir,json_file,metric ='blip')"
      ]
    },
    {
      "cell_type": "markdown",
      "metadata": {
        "id": "l0QmralpYcvl"
      },
      "source": [
        "BLIP2 evaluation"
      ]
    },
    {
      "cell_type": "code",
      "execution_count": null,
      "metadata": {
        "colab": {
          "base_uri": "https://localhost:8080/",
          "height": 520,
          "referenced_widgets": [
            "62c12f3760c444a5898fee7a85d36941",
            "ff7bcea7d5a743b7a066488e63137880",
            "ec046fb622324e21a1a0d1acbc58a02b",
            "9e6ef51d907a47abb3e51425547be2e6",
            "f374eb79bc1944de8f3416c00f95bb81",
            "bb8b0e3227414f16bfd2fef256d57481",
            "6a2f1d7f8f4547569495a3ce5ccd3323",
            "d0527999f221440ba3b6201a8bfa9370",
            "0d4c107b1e3b41abb6596c8436c65740",
            "bf3abc210cde4273944d2511599cce8e",
            "451332c0d6dc43c59d14972e53099f5b"
          ]
        },
        "id": "yN9lX8zhYcvm",
        "outputId": "225efd49-3848-4ae1-ed6a-e1ae35242713"
      },
      "outputs": [],
      "source": [
        "evaluation(save_dir,captions, metric='blip')"
      ]
    },
    {
      "cell_type": "code",
      "execution_count": null,
      "metadata": {},
      "outputs": [],
      "source": []
    },
    {
      "cell_type": "code",
      "execution_count": null,
      "metadata": {},
      "outputs": [],
      "source": [
        "from huggingface_hub import HfApi\n",
        "import os\n",
        "api = HfApi()\n",
        "api.upload_folder(\n",
        "    folder_path= os.path.join(os.getcwd(),\"datasets/filtered_imsitu/dataset\"),\n",
        "    repo_id=\"Reutsalman/IMSITUE_FILTER-FOR_PROJECT\",\n",
        "    repo_type=\"dataset\"\n",
        ")"
      ]
    },
    {
      "cell_type": "code",
      "execution_count": null,
      "metadata": {},
      "outputs": [],
      "source": []
    }
  ],
  "metadata": {
    "colab": {
      "provenance": []
    },
    "kernelspec": {
      "display_name": "Python 3",
      "name": "python3"
    },
    "language_info": {
      "codemirror_mode": {
        "name": "ipython",
        "version": 3
      },
      "file_extension": ".py",
      "mimetype": "text/x-python",
      "name": "python",
      "nbconvert_exporter": "python",
      "pygments_lexer": "ipython3",
      "version": "3.12.6"
    },
    "widgets": {
      "application/vnd.jupyter.widget-state+json": {
        "0d4c107b1e3b41abb6596c8436c65740": {
          "model_module": "@jupyter-widgets/controls",
          "model_module_version": "1.5.0",
          "model_name": "ProgressStyleModel",
          "state": {
            "_model_module": "@jupyter-widgets/controls",
            "_model_module_version": "1.5.0",
            "_model_name": "ProgressStyleModel",
            "_view_count": null,
            "_view_module": "@jupyter-widgets/base",
            "_view_module_version": "1.2.0",
            "_view_name": "StyleView",
            "bar_color": null,
            "description_width": ""
          }
        },
        "340b933d3f964f10b9dcb45fe544a034": {
          "model_module": "@jupyter-widgets/controls",
          "model_module_version": "1.5.0",
          "model_name": "HTMLModel",
          "state": {
            "_dom_classes": [],
            "_model_module": "@jupyter-widgets/controls",
            "_model_module_version": "1.5.0",
            "_model_name": "HTMLModel",
            "_view_count": null,
            "_view_module": "@jupyter-widgets/controls",
            "_view_module_version": "1.5.0",
            "_view_name": "HTMLView",
            "description": "",
            "description_tooltip": null,
            "layout": "IPY_MODEL_eaedd90f590b494587c99b9358764a87",
            "placeholder": "​",
            "style": "IPY_MODEL_f49e9e574ab54f7d9ee44a70bf05b0ee",
            "value": " 14.2k/14.2k [00:00&lt;00:00, 603kB/s]"
          }
        },
        "3518f9afea514163b66b9947fc3278dd": {
          "model_module": "@jupyter-widgets/controls",
          "model_module_version": "1.5.0",
          "model_name": "ProgressStyleModel",
          "state": {
            "_model_module": "@jupyter-widgets/controls",
            "_model_module_version": "1.5.0",
            "_model_name": "ProgressStyleModel",
            "_view_count": null,
            "_view_module": "@jupyter-widgets/base",
            "_view_module_version": "1.2.0",
            "_view_name": "StyleView",
            "bar_color": null,
            "description_width": ""
          }
        },
        "44247bfb5f824e48af2e6a1f21da90a5": {
          "model_module": "@jupyter-widgets/controls",
          "model_module_version": "1.5.0",
          "model_name": "HTMLModel",
          "state": {
            "_dom_classes": [],
            "_model_module": "@jupyter-widgets/controls",
            "_model_module_version": "1.5.0",
            "_model_name": "HTMLModel",
            "_view_count": null,
            "_view_module": "@jupyter-widgets/controls",
            "_view_module_version": "1.5.0",
            "_view_name": "HTMLView",
            "description": "",
            "description_tooltip": null,
            "layout": "IPY_MODEL_445a366df8df494793baedec4192292d",
            "placeholder": "​",
            "style": "IPY_MODEL_f1d0ca3c830f4fe49f98efa0971a5f18",
            "value": "README.md: 100%"
          }
        },
        "445a366df8df494793baedec4192292d": {
          "model_module": "@jupyter-widgets/base",
          "model_module_version": "1.2.0",
          "model_name": "LayoutModel",
          "state": {
            "_model_module": "@jupyter-widgets/base",
            "_model_module_version": "1.2.0",
            "_model_name": "LayoutModel",
            "_view_count": null,
            "_view_module": "@jupyter-widgets/base",
            "_view_module_version": "1.2.0",
            "_view_name": "LayoutView",
            "align_content": null,
            "align_items": null,
            "align_self": null,
            "border": null,
            "bottom": null,
            "display": null,
            "flex": null,
            "flex_flow": null,
            "grid_area": null,
            "grid_auto_columns": null,
            "grid_auto_flow": null,
            "grid_auto_rows": null,
            "grid_column": null,
            "grid_gap": null,
            "grid_row": null,
            "grid_template_areas": null,
            "grid_template_columns": null,
            "grid_template_rows": null,
            "height": null,
            "justify_content": null,
            "justify_items": null,
            "left": null,
            "margin": null,
            "max_height": null,
            "max_width": null,
            "min_height": null,
            "min_width": null,
            "object_fit": null,
            "object_position": null,
            "order": null,
            "overflow": null,
            "overflow_x": null,
            "overflow_y": null,
            "padding": null,
            "right": null,
            "top": null,
            "visibility": null,
            "width": null
          }
        },
        "451332c0d6dc43c59d14972e53099f5b": {
          "model_module": "@jupyter-widgets/controls",
          "model_module_version": "1.5.0",
          "model_name": "DescriptionStyleModel",
          "state": {
            "_model_module": "@jupyter-widgets/controls",
            "_model_module_version": "1.5.0",
            "_model_name": "DescriptionStyleModel",
            "_view_count": null,
            "_view_module": "@jupyter-widgets/base",
            "_view_module_version": "1.2.0",
            "_view_name": "StyleView",
            "description_width": ""
          }
        },
        "62c12f3760c444a5898fee7a85d36941": {
          "model_module": "@jupyter-widgets/controls",
          "model_module_version": "1.5.0",
          "model_name": "HBoxModel",
          "state": {
            "_dom_classes": [],
            "_model_module": "@jupyter-widgets/controls",
            "_model_module_version": "1.5.0",
            "_model_name": "HBoxModel",
            "_view_count": null,
            "_view_module": "@jupyter-widgets/controls",
            "_view_module_version": "1.5.0",
            "_view_name": "HBoxView",
            "box_style": "",
            "children": [
              "IPY_MODEL_ff7bcea7d5a743b7a066488e63137880",
              "IPY_MODEL_ec046fb622324e21a1a0d1acbc58a02b",
              "IPY_MODEL_9e6ef51d907a47abb3e51425547be2e6"
            ],
            "layout": "IPY_MODEL_f374eb79bc1944de8f3416c00f95bb81"
          }
        },
        "6a2f1d7f8f4547569495a3ce5ccd3323": {
          "model_module": "@jupyter-widgets/controls",
          "model_module_version": "1.5.0",
          "model_name": "DescriptionStyleModel",
          "state": {
            "_model_module": "@jupyter-widgets/controls",
            "_model_module_version": "1.5.0",
            "_model_name": "DescriptionStyleModel",
            "_view_count": null,
            "_view_module": "@jupyter-widgets/base",
            "_view_module_version": "1.2.0",
            "_view_name": "StyleView",
            "description_width": ""
          }
        },
        "932b27a4ed374fca9488aca6b2d55656": {
          "model_module": "@jupyter-widgets/controls",
          "model_module_version": "1.5.0",
          "model_name": "HBoxModel",
          "state": {
            "_dom_classes": [],
            "_model_module": "@jupyter-widgets/controls",
            "_model_module_version": "1.5.0",
            "_model_name": "HBoxModel",
            "_view_count": null,
            "_view_module": "@jupyter-widgets/controls",
            "_view_module_version": "1.5.0",
            "_view_name": "HBoxView",
            "box_style": "",
            "children": [
              "IPY_MODEL_44247bfb5f824e48af2e6a1f21da90a5",
              "IPY_MODEL_eeea2f66a03049f5af269a134e489dc5",
              "IPY_MODEL_340b933d3f964f10b9dcb45fe544a034"
            ],
            "layout": "IPY_MODEL_fb7b0859904346108de26b96425ef39b"
          }
        },
        "9e6ef51d907a47abb3e51425547be2e6": {
          "model_module": "@jupyter-widgets/controls",
          "model_module_version": "1.5.0",
          "model_name": "HTMLModel",
          "state": {
            "_dom_classes": [],
            "_model_module": "@jupyter-widgets/controls",
            "_model_module_version": "1.5.0",
            "_model_name": "HTMLModel",
            "_view_count": null,
            "_view_module": "@jupyter-widgets/controls",
            "_view_module_version": "1.5.0",
            "_view_name": "HTMLView",
            "description": "",
            "description_tooltip": null,
            "layout": "IPY_MODEL_bf3abc210cde4273944d2511599cce8e",
            "placeholder": "​",
            "style": "IPY_MODEL_451332c0d6dc43c59d14972e53099f5b",
            "value": " 2/2 [00:04&lt;00:00,  2.17s/it]"
          }
        },
        "ab28620a412043228e13e275560b874c": {
          "model_module": "@jupyter-widgets/base",
          "model_module_version": "1.2.0",
          "model_name": "LayoutModel",
          "state": {
            "_model_module": "@jupyter-widgets/base",
            "_model_module_version": "1.2.0",
            "_model_name": "LayoutModel",
            "_view_count": null,
            "_view_module": "@jupyter-widgets/base",
            "_view_module_version": "1.2.0",
            "_view_name": "LayoutView",
            "align_content": null,
            "align_items": null,
            "align_self": null,
            "border": null,
            "bottom": null,
            "display": null,
            "flex": null,
            "flex_flow": null,
            "grid_area": null,
            "grid_auto_columns": null,
            "grid_auto_flow": null,
            "grid_auto_rows": null,
            "grid_column": null,
            "grid_gap": null,
            "grid_row": null,
            "grid_template_areas": null,
            "grid_template_columns": null,
            "grid_template_rows": null,
            "height": null,
            "justify_content": null,
            "justify_items": null,
            "left": null,
            "margin": null,
            "max_height": null,
            "max_width": null,
            "min_height": null,
            "min_width": null,
            "object_fit": null,
            "object_position": null,
            "order": null,
            "overflow": null,
            "overflow_x": null,
            "overflow_y": null,
            "padding": null,
            "right": null,
            "top": null,
            "visibility": null,
            "width": null
          }
        },
        "bb8b0e3227414f16bfd2fef256d57481": {
          "model_module": "@jupyter-widgets/base",
          "model_module_version": "1.2.0",
          "model_name": "LayoutModel",
          "state": {
            "_model_module": "@jupyter-widgets/base",
            "_model_module_version": "1.2.0",
            "_model_name": "LayoutModel",
            "_view_count": null,
            "_view_module": "@jupyter-widgets/base",
            "_view_module_version": "1.2.0",
            "_view_name": "LayoutView",
            "align_content": null,
            "align_items": null,
            "align_self": null,
            "border": null,
            "bottom": null,
            "display": null,
            "flex": null,
            "flex_flow": null,
            "grid_area": null,
            "grid_auto_columns": null,
            "grid_auto_flow": null,
            "grid_auto_rows": null,
            "grid_column": null,
            "grid_gap": null,
            "grid_row": null,
            "grid_template_areas": null,
            "grid_template_columns": null,
            "grid_template_rows": null,
            "height": null,
            "justify_content": null,
            "justify_items": null,
            "left": null,
            "margin": null,
            "max_height": null,
            "max_width": null,
            "min_height": null,
            "min_width": null,
            "object_fit": null,
            "object_position": null,
            "order": null,
            "overflow": null,
            "overflow_x": null,
            "overflow_y": null,
            "padding": null,
            "right": null,
            "top": null,
            "visibility": null,
            "width": null
          }
        },
        "bf3abc210cde4273944d2511599cce8e": {
          "model_module": "@jupyter-widgets/base",
          "model_module_version": "1.2.0",
          "model_name": "LayoutModel",
          "state": {
            "_model_module": "@jupyter-widgets/base",
            "_model_module_version": "1.2.0",
            "_model_name": "LayoutModel",
            "_view_count": null,
            "_view_module": "@jupyter-widgets/base",
            "_view_module_version": "1.2.0",
            "_view_name": "LayoutView",
            "align_content": null,
            "align_items": null,
            "align_self": null,
            "border": null,
            "bottom": null,
            "display": null,
            "flex": null,
            "flex_flow": null,
            "grid_area": null,
            "grid_auto_columns": null,
            "grid_auto_flow": null,
            "grid_auto_rows": null,
            "grid_column": null,
            "grid_gap": null,
            "grid_row": null,
            "grid_template_areas": null,
            "grid_template_columns": null,
            "grid_template_rows": null,
            "height": null,
            "justify_content": null,
            "justify_items": null,
            "left": null,
            "margin": null,
            "max_height": null,
            "max_width": null,
            "min_height": null,
            "min_width": null,
            "object_fit": null,
            "object_position": null,
            "order": null,
            "overflow": null,
            "overflow_x": null,
            "overflow_y": null,
            "padding": null,
            "right": null,
            "top": null,
            "visibility": null,
            "width": null
          }
        },
        "d0527999f221440ba3b6201a8bfa9370": {
          "model_module": "@jupyter-widgets/base",
          "model_module_version": "1.2.0",
          "model_name": "LayoutModel",
          "state": {
            "_model_module": "@jupyter-widgets/base",
            "_model_module_version": "1.2.0",
            "_model_name": "LayoutModel",
            "_view_count": null,
            "_view_module": "@jupyter-widgets/base",
            "_view_module_version": "1.2.0",
            "_view_name": "LayoutView",
            "align_content": null,
            "align_items": null,
            "align_self": null,
            "border": null,
            "bottom": null,
            "display": null,
            "flex": null,
            "flex_flow": null,
            "grid_area": null,
            "grid_auto_columns": null,
            "grid_auto_flow": null,
            "grid_auto_rows": null,
            "grid_column": null,
            "grid_gap": null,
            "grid_row": null,
            "grid_template_areas": null,
            "grid_template_columns": null,
            "grid_template_rows": null,
            "height": null,
            "justify_content": null,
            "justify_items": null,
            "left": null,
            "margin": null,
            "max_height": null,
            "max_width": null,
            "min_height": null,
            "min_width": null,
            "object_fit": null,
            "object_position": null,
            "order": null,
            "overflow": null,
            "overflow_x": null,
            "overflow_y": null,
            "padding": null,
            "right": null,
            "top": null,
            "visibility": null,
            "width": null
          }
        },
        "eaedd90f590b494587c99b9358764a87": {
          "model_module": "@jupyter-widgets/base",
          "model_module_version": "1.2.0",
          "model_name": "LayoutModel",
          "state": {
            "_model_module": "@jupyter-widgets/base",
            "_model_module_version": "1.2.0",
            "_model_name": "LayoutModel",
            "_view_count": null,
            "_view_module": "@jupyter-widgets/base",
            "_view_module_version": "1.2.0",
            "_view_name": "LayoutView",
            "align_content": null,
            "align_items": null,
            "align_self": null,
            "border": null,
            "bottom": null,
            "display": null,
            "flex": null,
            "flex_flow": null,
            "grid_area": null,
            "grid_auto_columns": null,
            "grid_auto_flow": null,
            "grid_auto_rows": null,
            "grid_column": null,
            "grid_gap": null,
            "grid_row": null,
            "grid_template_areas": null,
            "grid_template_columns": null,
            "grid_template_rows": null,
            "height": null,
            "justify_content": null,
            "justify_items": null,
            "left": null,
            "margin": null,
            "max_height": null,
            "max_width": null,
            "min_height": null,
            "min_width": null,
            "object_fit": null,
            "object_position": null,
            "order": null,
            "overflow": null,
            "overflow_x": null,
            "overflow_y": null,
            "padding": null,
            "right": null,
            "top": null,
            "visibility": null,
            "width": null
          }
        },
        "ec046fb622324e21a1a0d1acbc58a02b": {
          "model_module": "@jupyter-widgets/controls",
          "model_module_version": "1.5.0",
          "model_name": "FloatProgressModel",
          "state": {
            "_dom_classes": [],
            "_model_module": "@jupyter-widgets/controls",
            "_model_module_version": "1.5.0",
            "_model_name": "FloatProgressModel",
            "_view_count": null,
            "_view_module": "@jupyter-widgets/controls",
            "_view_module_version": "1.5.0",
            "_view_name": "ProgressView",
            "bar_style": "success",
            "description": "",
            "description_tooltip": null,
            "layout": "IPY_MODEL_d0527999f221440ba3b6201a8bfa9370",
            "max": 2,
            "min": 0,
            "orientation": "horizontal",
            "style": "IPY_MODEL_0d4c107b1e3b41abb6596c8436c65740",
            "value": 2
          }
        },
        "eeea2f66a03049f5af269a134e489dc5": {
          "model_module": "@jupyter-widgets/controls",
          "model_module_version": "1.5.0",
          "model_name": "FloatProgressModel",
          "state": {
            "_dom_classes": [],
            "_model_module": "@jupyter-widgets/controls",
            "_model_module_version": "1.5.0",
            "_model_name": "FloatProgressModel",
            "_view_count": null,
            "_view_module": "@jupyter-widgets/controls",
            "_view_module_version": "1.5.0",
            "_view_name": "ProgressView",
            "bar_style": "success",
            "description": "",
            "description_tooltip": null,
            "layout": "IPY_MODEL_ab28620a412043228e13e275560b874c",
            "max": 14183,
            "min": 0,
            "orientation": "horizontal",
            "style": "IPY_MODEL_3518f9afea514163b66b9947fc3278dd",
            "value": 14183
          }
        },
        "f1d0ca3c830f4fe49f98efa0971a5f18": {
          "model_module": "@jupyter-widgets/controls",
          "model_module_version": "1.5.0",
          "model_name": "DescriptionStyleModel",
          "state": {
            "_model_module": "@jupyter-widgets/controls",
            "_model_module_version": "1.5.0",
            "_model_name": "DescriptionStyleModel",
            "_view_count": null,
            "_view_module": "@jupyter-widgets/base",
            "_view_module_version": "1.2.0",
            "_view_name": "StyleView",
            "description_width": ""
          }
        },
        "f374eb79bc1944de8f3416c00f95bb81": {
          "model_module": "@jupyter-widgets/base",
          "model_module_version": "1.2.0",
          "model_name": "LayoutModel",
          "state": {
            "_model_module": "@jupyter-widgets/base",
            "_model_module_version": "1.2.0",
            "_model_name": "LayoutModel",
            "_view_count": null,
            "_view_module": "@jupyter-widgets/base",
            "_view_module_version": "1.2.0",
            "_view_name": "LayoutView",
            "align_content": null,
            "align_items": null,
            "align_self": null,
            "border": null,
            "bottom": null,
            "display": null,
            "flex": null,
            "flex_flow": null,
            "grid_area": null,
            "grid_auto_columns": null,
            "grid_auto_flow": null,
            "grid_auto_rows": null,
            "grid_column": null,
            "grid_gap": null,
            "grid_row": null,
            "grid_template_areas": null,
            "grid_template_columns": null,
            "grid_template_rows": null,
            "height": null,
            "justify_content": null,
            "justify_items": null,
            "left": null,
            "margin": null,
            "max_height": null,
            "max_width": null,
            "min_height": null,
            "min_width": null,
            "object_fit": null,
            "object_position": null,
            "order": null,
            "overflow": null,
            "overflow_x": null,
            "overflow_y": null,
            "padding": null,
            "right": null,
            "top": null,
            "visibility": null,
            "width": null
          }
        },
        "f49e9e574ab54f7d9ee44a70bf05b0ee": {
          "model_module": "@jupyter-widgets/controls",
          "model_module_version": "1.5.0",
          "model_name": "DescriptionStyleModel",
          "state": {
            "_model_module": "@jupyter-widgets/controls",
            "_model_module_version": "1.5.0",
            "_model_name": "DescriptionStyleModel",
            "_view_count": null,
            "_view_module": "@jupyter-widgets/base",
            "_view_module_version": "1.2.0",
            "_view_name": "StyleView",
            "description_width": ""
          }
        },
        "fb7b0859904346108de26b96425ef39b": {
          "model_module": "@jupyter-widgets/base",
          "model_module_version": "1.2.0",
          "model_name": "LayoutModel",
          "state": {
            "_model_module": "@jupyter-widgets/base",
            "_model_module_version": "1.2.0",
            "_model_name": "LayoutModel",
            "_view_count": null,
            "_view_module": "@jupyter-widgets/base",
            "_view_module_version": "1.2.0",
            "_view_name": "LayoutView",
            "align_content": null,
            "align_items": null,
            "align_self": null,
            "border": null,
            "bottom": null,
            "display": null,
            "flex": null,
            "flex_flow": null,
            "grid_area": null,
            "grid_auto_columns": null,
            "grid_auto_flow": null,
            "grid_auto_rows": null,
            "grid_column": null,
            "grid_gap": null,
            "grid_row": null,
            "grid_template_areas": null,
            "grid_template_columns": null,
            "grid_template_rows": null,
            "height": null,
            "justify_content": null,
            "justify_items": null,
            "left": null,
            "margin": null,
            "max_height": null,
            "max_width": null,
            "min_height": null,
            "min_width": null,
            "object_fit": null,
            "object_position": null,
            "order": null,
            "overflow": null,
            "overflow_x": null,
            "overflow_y": null,
            "padding": null,
            "right": null,
            "top": null,
            "visibility": null,
            "width": null
          }
        },
        "ff7bcea7d5a743b7a066488e63137880": {
          "model_module": "@jupyter-widgets/controls",
          "model_module_version": "1.5.0",
          "model_name": "HTMLModel",
          "state": {
            "_dom_classes": [],
            "_model_module": "@jupyter-widgets/controls",
            "_model_module_version": "1.5.0",
            "_model_name": "HTMLModel",
            "_view_count": null,
            "_view_module": "@jupyter-widgets/controls",
            "_view_module_version": "1.5.0",
            "_view_name": "HTMLView",
            "description": "",
            "description_tooltip": null,
            "layout": "IPY_MODEL_bb8b0e3227414f16bfd2fef256d57481",
            "placeholder": "​",
            "style": "IPY_MODEL_6a2f1d7f8f4547569495a3ce5ccd3323",
            "value": "Loading checkpoint shards: 100%"
          }
        }
      }
    }
  },
  "nbformat": 4,
  "nbformat_minor": 0
}
